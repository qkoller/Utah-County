{
    "cells": [
        {
            "cell_type": "markdown",
            "metadata": {
                "collapsed": true
            },
            "source": "# Battle of the Neighborhoods - Where Should A New Chinese Restaurant Go in Utah County, Utah?"
        },
        {
            "cell_type": "markdown",
            "metadata": {},
            "source": "## Introduction\n\nUtah County, Utah is the second largest county in the U.S. State of Utah with an estimated population of 636,235. It is also the fastest growing population center in the State and as such housing is growing at a faster pace then the service and restaurant sector. Driving through the area one is struck by the impression that there are a lot of fast food and American casual dining chain restaurants, but very few Chinese restaurants. This analysis will address the question of where one would locate such a restaurant within this area."
        },
        {
            "cell_type": "markdown",
            "metadata": {},
            "source": "## Data\n\nThe data sets that will be used for this project are as follows:\n\nUS zip code latitude and longitude file downloaded from https://public.opendatasoft.com/explore/?sort=modified&q=zip+code. This data set doesn\u2019t have Utah county information, so another data set with this information will need to be used. \n\nUtah county information with zip codes downloaded from https://opendata.gis.utah.gov/datasets/utah-zip-code-areas/data. This data set doesn\u2019t have latitude and longitude.\n\nA new data set will be created by combining the two previous files using zip code as the common key, and dropping extemporaneous data, and then filtering the data down to include only the zip codes for Utah County.\n\nThis resulting Utah County geocoded data set will be used with venue data for the area of interested pulled using the FourSquare venue data."
        },
        {
            "cell_type": "code",
            "execution_count": null,
            "metadata": {},
            "outputs": [],
            "source": ""
        }
    ],
    "metadata": {
        "kernelspec": {
            "display_name": "Python 3.7",
            "language": "python",
            "name": "python3"
        },
        "language_info": {
            "codemirror_mode": {
                "name": "ipython",
                "version": 3
            },
            "file_extension": ".py",
            "mimetype": "text/x-python",
            "name": "python",
            "nbconvert_exporter": "python",
            "pygments_lexer": "ipython3",
            "version": "3.7.9"
        }
    },
    "nbformat": 4,
    "nbformat_minor": 1
}